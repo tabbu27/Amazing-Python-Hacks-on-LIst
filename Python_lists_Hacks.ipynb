{
 "cells": [
  {
   "cell_type": "code",
   "execution_count": 2,
   "metadata": {},
   "outputs": [
    {
     "name": "stdout",
     "output_type": "stream",
     "text": [
      "[('Sun', 'Flower', 'people'), ('India', 'Day', 'Night')]\n"
     ]
    }
   ],
   "source": [
    "#partition a list into N groups\n",
    "list1=['Sun','Flower','people','India','Day','Night']\n",
    "partition = list(zip(*[iter(list1)]*3))\n",
    "print(partition)"
   ]
  },
  {
   "cell_type": "code",
   "execution_count": 4,
   "metadata": {},
   "outputs": [
    {
     "name": "stdin",
     "output_type": "stream",
     "text": [
      "enter numbers:  123\n"
     ]
    },
    {
     "name": "stdout",
     "output_type": "stream",
     "text": [
      "[123]\n"
     ]
    }
   ],
   "source": [
    "#take the string as input and convert it into list\n",
    "formatted_list = list(map(int, input(\"enter numbers: \").split()))\n",
    "print(formatted_list)"
   ]
  },
  {
   "cell_type": "code",
   "execution_count": 6,
   "metadata": {},
   "outputs": [
    {
     "name": "stdout",
     "output_type": "stream",
     "text": [
      "[1, 2, 3, 4, 5, 6]\n"
     ]
    }
   ],
   "source": [
    "#convert list of into single list\n",
    "import itertools\n",
    "list1 = [[1,2],[3,4],[5,6]]\n",
    "lst = list(itertools.chain.from_iterable(list1))\n",
    "print(lst)"
   ]
  },
  {
   "cell_type": "code",
   "execution_count": 7,
   "metadata": {},
   "outputs": [
    {
     "name": "stdout",
     "output_type": "stream",
     "text": [
      "1 2\n",
      "3 4\n",
      "5 6\n",
      "7 8\n"
     ]
    }
   ],
   "source": [
    "#printing more than one list simultaneously\n",
    "list1 = [1,3,5,7]\n",
    "list2=[2,4,6,8]\n",
    "\n",
    "#Here zip() function takes two length list and merges them together in pairs\n",
    "\n",
    "for a,b in zip(list1,list2):\n",
    "    print(a,b)"
   ]
  }
 ],
 "metadata": {
  "kernelspec": {
   "display_name": "Python 3",
   "language": "python",
   "name": "python3"
  },
  "language_info": {
   "codemirror_mode": {
    "name": "ipython",
    "version": 3
   },
   "file_extension": ".py",
   "mimetype": "text/x-python",
   "name": "python",
   "nbconvert_exporter": "python",
   "pygments_lexer": "ipython3",
   "version": "3.8.10"
  }
 },
 "nbformat": 4,
 "nbformat_minor": 4
}
